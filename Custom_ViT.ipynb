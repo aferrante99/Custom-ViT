{
  "cells": [
    {
      "cell_type": "markdown",
      "source": [
        "Welcome to the Custom ViT Colab! This notebook provides a hands-on implementation of the [proposed model](https://), showcasing its training, evaluation, and ensembling capabilities."
      ],
      "metadata": {
        "id": "QgJMafX1pWke"
      }
    },
    {
      "cell_type": "markdown",
      "source": [
        "#PIP install"
      ],
      "metadata": {
        "id": "8HXnQdpB_rEp"
      }
    },
    {
      "cell_type": "code",
      "execution_count": null,
      "metadata": {
        "collapsed": true,
        "id": "geIZb9-yGW1I"
      },
      "outputs": [],
      "source": [
        "%%capture\n",
        "!pip install torch torchvision timm tqdm fvcore matplotlib seaborn torchmetrics"
      ]
    },
    {
      "cell_type": "code",
      "source": [
        "%%capture\n",
        "!pip install pytorch-ood"
      ],
      "metadata": {
        "id": "7BmB9XFa1N4l"
      },
      "execution_count": null,
      "outputs": []
    },
    {
      "cell_type": "code",
      "source": [
        "%%capture\n",
        "!pip install torchattacks"
      ],
      "metadata": {
        "id": "YnRNMJLaGaL0"
      },
      "execution_count": null,
      "outputs": []
    },
    {
      "cell_type": "markdown",
      "metadata": {
        "id": "YX0bIT4nY9Eh"
      },
      "source": [
        "#Import Libraries"
      ]
    },
    {
      "cell_type": "code",
      "execution_count": null,
      "metadata": {
        "id": "uqnK976UGnPB"
      },
      "outputs": [],
      "source": [
        "%%capture\n",
        "import argparse\n",
        "import json\n",
        "import math\n",
        "import os\n",
        "from collections import defaultdict\n",
        "from copy import deepcopy\n",
        "from itertools import chain\n",
        "from typing import Union\n",
        "from torchmetrics.functional.classification import multiclass_calibration_error\n",
        "import numpy as np\n",
        "import timm\n",
        "import torch\n",
        "import torchvision\n",
        "import tqdm\n",
        "from matplotlib import pyplot as plt\n",
        "from timm.models import VisionTransformer, checkpoint_seq\n",
        "from timm.models.vision_transformer import Block\n",
        "from torch import nn\n",
        "from torch.optim import Adam\n",
        "from torch.utils.data import DataLoader\n",
        "from torchvision import transforms as T\n",
        "import torch.nn.functional as F\n",
        "from tqdm.notebook import tqdm\n",
        "from sklearn.metrics import confusion_matrix, accuracy_score, precision_score, recall_score, f1_score\n",
        "import seaborn as sns\n",
        "import matplotlib.pyplot as plt\n",
        "from math import cos, pi\n",
        "from torch.utils.data import random_split\n",
        "from torch.utils.data import DataLoader\n",
        "from torchvision import transforms\n",
        "from pytorch_ood.dataset.img import TinyImageNetCrop\n",
        "from pytorch_ood.utils import ToUnknown\n",
        "from pytorch_ood.utils import OODMetrics\n",
        "from pytorch_ood.detector import EnergyBased\n",
        "import torchattacks"
      ]
    },
    {
      "cell_type": "code",
      "source": [
        "import pandas as pd\n",
        "import contextlib\n",
        "import os\n",
        "\n",
        "from pytorch_ood.dataset.img import (\n",
        "    LSUNCrop,\n",
        "    LSUNResize,\n",
        "    Textures,\n",
        "    TinyImageNetCrop,\n",
        "    TinyImageNetResize,\n",
        "    Places365,\n",
        "    TinyImageNet\n",
        ")\n",
        "from pytorch_ood.detector import (\n",
        "     ODIN,\n",
        "     EnergyBased,\n",
        "     Entropy,\n",
        "     KLMatching,\n",
        "     Mahalanobis,\n",
        "     MaxLogit,\n",
        "     MaxSoftmax,\n",
        "     ViM,\n",
        "     RMD,\n",
        "     DICE,\n",
        "     SHE,\n",
        " )"
      ],
      "metadata": {
        "id": "KQr8mx8br28w"
      },
      "execution_count": null,
      "outputs": []
    },
    {
      "cell_type": "markdown",
      "source": [
        "#Google Drive"
      ],
      "metadata": {
        "id": "ysFtZH1D_vjS"
      }
    },
    {
      "cell_type": "code",
      "source": [
        "from google.colab import drive\n",
        "drive.mount('/content/drive')"
      ],
      "metadata": {
        "id": "sGFvJ_ctas1R",
        "colab": {
          "base_uri": "https://localhost:8080/"
        },
        "outputId": "e19ce652-610a-416c-e343-90ea885b6e4b"
      },
      "execution_count": null,
      "outputs": [
        {
          "output_type": "stream",
          "name": "stdout",
          "text": [
            "Drive already mounted at /content/drive; to attempt to forcibly remount, call drive.mount(\"/content/drive\", force_remount=True).\n"
          ]
        }
      ]
    },
    {
      "cell_type": "markdown",
      "metadata": {
        "id": "V7vqeHNsG2PN"
      },
      "source": [
        "# Custom ViT class\n"
      ]
    },
    {
      "cell_type": "markdown",
      "source": [
        "The core of the project is the Custom ViT class. Note that to increase the number of subnetwork (i.e. additional tokens), it's needed to change the `num_tokens` parameter in the `__init__` function.\n",
        "\n",
        "\n"
      ],
      "metadata": {
        "id": "VWC8FK7o6BY8"
      }
    },
    {
      "cell_type": "code",
      "source": [
        "class CustomVit(nn.Module):\n",
        "    def __init__(self, model: VisionTransformer, num_tokens=3, *args, **kwargs):\n",
        "        super().__init__(*args, **kwargs)\n",
        "\n",
        "        self._model = model\n",
        "\n",
        "        self.num_tokens = num_tokens\n",
        "\n",
        "        #Initialize up to num_tokens additional tokens\n",
        "        self.additional_tokens = nn.ParameterList([\n",
        "            nn.Parameter(torch.randn_like(self._model.cls_token) * 0.02)\n",
        "            for _ in range(num_tokens)\n",
        "        ])\n",
        "\n",
        "\n",
        "    # Embeddings positioning with dynamic token generation\n",
        "    def _pos_embed(self, x, token_index):\n",
        "\n",
        "        x = self._model._pos_embed(x)\n",
        "\n",
        "        embedding = self.additional_tokens[token_index].expand(x.shape[0], -1, -1)  # Expand to match batch size\n",
        "\n",
        "        # Concatenation\n",
        "        x = torch.cat((x, embedding), 1)\n",
        "\n",
        "        return x\n",
        "\n",
        "    def __getattr__(self, item):\n",
        "        try:\n",
        "            return super().__getattr__(item)\n",
        "        except AttributeError:\n",
        "            return getattr(self._model, item)\n",
        "\n",
        "\n",
        "\n",
        "    def forward_features(self, x: torch.Tensor, token_index: int) -> torch.Tensor:\n",
        "        x = self.patch_embed(x)\n",
        "\n",
        "        x = self._pos_embed(x, token_index)\n",
        "\n",
        "        x = self.patch_drop(x)\n",
        "\n",
        "        x = self.norm_pre(x)\n",
        "\n",
        "        if self.grad_checkpointing and not torch.jit.is_scripting():\n",
        "            x = checkpoint_seq(self.blocks, x)\n",
        "        else:\n",
        "            prev_mask = None\n",
        "            for b in self.blocks:\n",
        "                prev_mask = None\n",
        "                x = b(x)\n",
        "        x = self.norm(x)\n",
        "\n",
        "        return x\n",
        "\n",
        "    def forward(self, x, token_index):\n",
        "\n",
        "        # Token index must be given\n",
        "        if token_index >= self.num_tokens or token_index < 0:\n",
        "            raise ValueError(f\"token_index must be between 0 and {self.num_tokens - 1}\")\n",
        "\n",
        "        x = self.forward_features(x, token_index)\n",
        "        x = self.forward_head(x)\n",
        "\n",
        "\n",
        "        return x"
      ],
      "metadata": {
        "id": "ektSp_-ecli4"
      },
      "execution_count": null,
      "outputs": []
    },
    {
      "cell_type": "markdown",
      "metadata": {
        "id": "zRvIr7Y9HQIO"
      },
      "source": [
        "#Data preparation"
      ]
    },
    {
      "cell_type": "markdown",
      "source": [
        "Retrieval and transformation for Imagenette."
      ],
      "metadata": {
        "id": "6pWpbt9n6voV"
      }
    },
    {
      "cell_type": "code",
      "execution_count": null,
      "metadata": {
        "collapsed": true,
        "id": "BmqxxqHWHZV0"
      },
      "outputs": [],
      "source": [
        "%%capture\n",
        "!mkdir -p ./data/imagenette\n",
        "!wget https://s3.amazonaws.com/fast-ai-imageclas/imagenette2-160.tgz -O ./data/imagenette/imagenette2-160.tgz\n",
        "!tar -xvzf ./data/imagenette/imagenette2-160.tgz -C ./data/imagenette --strip-components=1\n"
      ]
    },
    {
      "cell_type": "code",
      "execution_count": null,
      "metadata": {
        "id": "4No6dA0FHHr8"
      },
      "outputs": [],
      "source": [
        "train_transform = T.Compose([\n",
        "\n",
        "    T.RandAugment(num_ops=2, magnitude=9),\n",
        "    T.ColorJitter(brightness=(0.6, 1.4), contrast=(0.6, 1.4), saturation=(0.6, 1.4), hue=0),\n",
        "    T.Resize((224, 224)),\n",
        "    T.RandomHorizontalFlip(),\n",
        "    T.ToTensor(),\n",
        "    T.Normalize(mean=[0.485, 0.456, 0.406], std=[0.229, 0.224, 0.225])\n",
        "\n",
        "])\n",
        "\n",
        "test_transform = T.Compose([\n",
        "\n",
        "    T.Resize((224, 224)),\n",
        "    T.ToTensor(),\n",
        "    T.Normalize(mean=[0.485, 0.456, 0.406], std=[0.229, 0.224, 0.225])\n",
        "\n",
        "    ])\n",
        "\n",
        "trainset = torchvision.datasets.ImageFolder(root='./data/imagenette/train', transform=train_transform)\n",
        "testset = torchvision.datasets.ImageFolder(root='./data/imagenette/val', transform=test_transform)\n"
      ]
    },
    {
      "cell_type": "markdown",
      "source": [
        "#Training"
      ],
      "metadata": {
        "id": "0alXGl7R7FMv"
      }
    },
    {
      "cell_type": "markdown",
      "source": [
        "Training loops for the different kinds of ensembles."
      ],
      "metadata": {
        "id": "lWMel5pb7SCJ"
      }
    },
    {
      "cell_type": "markdown",
      "metadata": {
        "id": "e7bH67ekZNOl"
      },
      "source": [
        "## Training Custom ViT (Average Ensemble)"
      ]
    },
    {
      "cell_type": "code",
      "execution_count": null,
      "metadata": {
        "collapsed": true,
        "id": "SPKyejP9IYo_"
      },
      "outputs": [],
      "source": [
        "BATCH_SIZE = 128     # IF TRAINING IN COLAB, USE BATCH_SIZE OF 64 FOR 5 SUBNETWORKS OR MORE\n",
        "EPOCHS = 10\n",
        "\n",
        "device = torch.device('cuda' if torch.cuda.is_available() else 'cpu')\n",
        "vit = timm.create_model('deit_tiny_patch16_224.fb_in1k', pretrained=True)"
      ]
    },
    {
      "cell_type": "code",
      "source": [
        "vit = CustomVit(vit)\n",
        "\n",
        "vit.to(device)\n",
        "\n",
        "print(f\"ViT with {vit.num_tokens} tokens created\")"
      ],
      "metadata": {
        "id": "X_m_iCbT011E"
      },
      "execution_count": null,
      "outputs": []
    },
    {
      "cell_type": "code",
      "execution_count": null,
      "metadata": {
        "id": "lntwU-BPthe6"
      },
      "outputs": [],
      "source": [
        "opt_custom = Adam(chain(vit.parameters()), lr=1e-4)\n",
        "scheduler_custom = torch.optim.lr_scheduler.CosineAnnealingLR(opt_custom, T_max=EPOCHS, eta_min=1e-6)\n",
        "\n",
        "#Keeping track of losses and KL divergence\n",
        "ensemble_losses_per_epoch = []\n",
        "kl_per_epoch = []\n",
        "lambda_kl = 0.3\n",
        "\n",
        "\n",
        "for epoch in tqdm(range(EPOCHS), desc=\"Epochs\", leave=True):\n",
        "    vit.train()\n",
        "    epoch_ensemble_loss = 0.0\n",
        "    epoch_kl_div= 0.0\n",
        "\n",
        "    print(f\"Lambda for Epoch {epoch+1}: {lambda_kl:.4f}\")\n",
        "\n",
        "    for x, y in tqdm(DataLoader(trainset, batch_size=BATCH_SIZE, shuffle=True), desc=\"Batches\", leave=False):\n",
        "        x, y = x.to(device), y.to(device)\n",
        "\n",
        "        logits_list = []\n",
        "        for i in range(vit.num_tokens):  # Iterate over the subnetworks\n",
        "          logits = vit(x, token_index=i)\n",
        "          logits_list.append(logits)\n",
        "\n",
        "        # Average the logits and compute the CE loss\n",
        "        ensemble_logits = torch.stack(logits_list, dim=0).mean(dim=0)\n",
        "        ensemble_loss_mean = F.cross_entropy(ensemble_logits, y)\n",
        "\n",
        "        # Compute the KL divergence between each logits and the average ensemble logits (to avoid pairwise KL)\n",
        "\n",
        "        kl_div = 0\n",
        "        for logits in logits_list:\n",
        "            log_probs = F.log_softmax(logits, dim=-1)\n",
        "            probs = F.softmax(ensemble_logits, dim=-1) + 1e-8  # for numerical stability\n",
        "            kl_div += F.kl_div(log_probs, probs, reduction='batchmean')\n",
        "\n",
        "        kl_div /= len(logits_list)\n",
        "\n",
        "        loss = ensemble_loss_mean - kl_div*lambda_kl\n",
        "\n",
        "        epoch_ensemble_loss += (ensemble_loss_mean).item()\n",
        "        epoch_kl_div += (kl_div).item()\n",
        "\n",
        "        opt_custom.zero_grad()\n",
        "        loss.backward()\n",
        "        torch.nn.utils.clip_grad_norm_(vit.parameters(), 1)\n",
        "        opt_custom.step()\n",
        "\n",
        "    scheduler_custom.step()\n",
        "\n",
        "    # Avgs for print\n",
        "    avg_ensemble_loss = epoch_ensemble_loss / len(DataLoader(trainset))\n",
        "    avg_kl_div = epoch_kl_div / len(DataLoader(trainset))\n",
        "\n",
        "    # Lists for graphs\n",
        "    ensemble_losses_per_epoch.append(avg_ensemble_loss)\n",
        "    kl_per_epoch.append(avg_kl_div)\n",
        "\n",
        "    print(f\"Epoch {epoch+1}/{EPOCHS}\")\n",
        "    print(f\"Ensemble Loss (mean): {avg_ensemble_loss:.4f}\")\n",
        "    print(f\"KL divergence (mean): {avg_kl_div:.4f}\\n\")\n",
        "\n",
        "\n",
        "    if epoch==9:\n",
        "      torch.save({\n",
        "          'epoch': epoch + 1,\n",
        "          'model_state_dict': vit.state_dict(),\n",
        "          'optimizer_state_dict': opt_custom.state_dict(),\n",
        "          'scheduler_state_dict': scheduler_custom.state_dict(),\n",
        "          'ensemble_losses': ensemble_losses_per_epoch,\n",
        "          'kl_div':kl_per_epoch,\n",
        "      },f'/PATH_TO_SAVE_LAST_EPOCH_{epoch+1}.pth')\n"
      ]
    },
    {
      "cell_type": "markdown",
      "source": [
        "##Training Custom ViT (Ensemble by partitioning)"
      ],
      "metadata": {
        "id": "j82d95tVJuZk"
      }
    },
    {
      "cell_type": "code",
      "source": [
        "BATCH_SIZE = 128\n",
        "EPOCHS = 10\n",
        "\n",
        "device = torch.device('cuda' if torch.cuda.is_available() else 'cpu')\n",
        "vit = timm.create_model('deit_tiny_patch16_224.fb_in1k', pretrained=True)"
      ],
      "metadata": {
        "id": "2dCgWZuoJzSa"
      },
      "execution_count": null,
      "outputs": []
    },
    {
      "cell_type": "code",
      "source": [
        "vit = CustomVit(vit)\n",
        "\n",
        "vit.to(device)\n",
        "\n",
        "print(f\"ViT with {vit.num_tokens} tokens created\")"
      ],
      "metadata": {
        "id": "7NYaccyFJ0XF"
      },
      "execution_count": null,
      "outputs": []
    },
    {
      "cell_type": "code",
      "source": [
        "# Define the size of each subset dividing equally for each subnetwork\n",
        "\n",
        "tokens = 3      #CHANGE THIS ACCORDING TO THE NUMBER OF SUBNETWORKS INSTANTIATED\n",
        "\n",
        "subset_sizes = [int(len(trainset) / tokens)] * tokens\n",
        "subset_sizes[-1] = len(trainset) - sum(subset_sizes[:-1])\n",
        "\n",
        "subsets = random_split(trainset, subset_sizes)\n",
        "\n",
        "subsets_loaders = [DataLoader(subset, batch_size=BATCH_SIZE, shuffle=True) for subset in subsets]\n",
        "\n",
        "print(f\"Created {len(subsets_loaders)} subsets for {vit.num_tokens} subnetworks\")"
      ],
      "metadata": {
        "id": "YHNf1IxJL-D5"
      },
      "execution_count": null,
      "outputs": []
    },
    {
      "cell_type": "code",
      "source": [
        "opt_custom = Adam(chain(vit.parameters()), lr=1e-4)\n",
        "scheduler_custom = torch.optim.lr_scheduler.CosineAnnealingLR(opt_custom, T_max=EPOCHS, eta_min=1e-6)\n",
        "\n",
        "#Keeping track of the loss\n",
        "total_losses_per_epoch = []\n",
        "\n",
        "for epoch in tqdm(range(EPOCHS), desc=\"Epochs\", leave=True):\n",
        "    vit.train()\n",
        "    epoch_total_loss = 0.0\n",
        "    total_batches = 0\n",
        "\n",
        "    for i, loader in enumerate(subsets_loaders):\n",
        "        for x, y in tqdm(loader, desc=f\"Training Subnetwork {i+1}\", leave=False):\n",
        "            x, y = x.to(device), y.to(device)\n",
        "\n",
        "            # Forward pass through the specific subnetwork\n",
        "            logits = vit(x, token_index=i)\n",
        "\n",
        "            subnetwork_loss = F.cross_entropy(logits, y)\n",
        "\n",
        "            opt_custom.zero_grad()\n",
        "            subnetwork_loss.backward()\n",
        "            torch.nn.utils.clip_grad_norm_(vit.parameters(), 1)\n",
        "            opt_custom.step()\n",
        "\n",
        "            epoch_total_loss += subnetwork_loss.item()\n",
        "            total_batches += 1\n",
        "\n",
        "    scheduler_custom.step()\n",
        "\n",
        "    avg_loss = epoch_total_loss / (len(trainset) * vit.num_tokens / BATCH_SIZE)\n",
        "    total_losses_per_epoch.append(avg_loss)\n",
        "\n",
        "    print(f\"Epoch {epoch+1}/{EPOCHS}\")\n",
        "    print(f\"Ensemble Loss (mean): {avg_loss:.4f}\")\n",
        "\n",
        "    if epoch==9:\n",
        "      torch.save({\n",
        "          'epoch': epoch + 1,\n",
        "          'model_state_dict': vit.state_dict(),\n",
        "          'optimizer_state_dict': opt_custom.state_dict(),\n",
        "          'scheduler_state_dict': scheduler_custom.state_dict(),\n",
        "          'total_loss': total_losses_per_epoch,\n",
        "      },f'/PATH_TO_SAVE_LAST_EPOCH_{epoch+1}.pth')\n"
      ],
      "metadata": {
        "id": "DLBsEkkzMO-Z"
      },
      "execution_count": null,
      "outputs": []
    },
    {
      "cell_type": "markdown",
      "source": [
        "## Training Custom ViT (Snapshot Ensemble)"
      ],
      "metadata": {
        "id": "ptLRcVIMWK7X"
      }
    },
    {
      "cell_type": "code",
      "source": [
        "EPOCHS = 10\n",
        "CYCLES = 3\n",
        "BATCH_SIZE = 128\n",
        "epochs_per_cycle = EPOCHS // CYCLES\n",
        "\n",
        "device = torch.device('cuda' if torch.cuda.is_available() else 'cpu')\n",
        "vit = timm.create_model('deit_tiny_patch16_224.fb_in1k', pretrained=True)\n",
        "\n",
        "vit = CustomVit(vit)\n",
        "vit.to(device)\n",
        "print(f\"ViT with {vit.num_tokens} tokens created\")"
      ],
      "metadata": {
        "id": "6Pvi-P7bWKNj"
      },
      "execution_count": null,
      "outputs": []
    },
    {
      "cell_type": "code",
      "source": [
        "snapshots = []\n",
        "ensemble_losses_per_epoch = []\n",
        "lambda_kl = 0.3\n",
        "\n",
        "# Keep track of each cycle loss\n",
        "cycle_1_losses = []\n",
        "cycle_2_losses = []\n",
        "cycle_3_losses = []\n",
        "\n",
        "\n",
        "for cycle in range(CYCLES):\n",
        "    print(f\"Starting Cycle {cycle + 1}/{CYCLES}\")\n",
        "\n",
        "    # Reset optimizer and scheduler to give SGD the kick to escape from the local minimum\n",
        "\n",
        "    opt_custom = Adam(chain(vit.parameters()), lr=5e-4)\n",
        "    scheduler_custom = torch.optim.lr_scheduler.CosineAnnealingLR(opt_custom, T_max=epochs_per_cycle, eta_min=1e-5)\n",
        "\n",
        "    for epoch in range(epochs_per_cycle):\n",
        "        vit.train()\n",
        "        epoch_ensemble_loss = 0.0\n",
        "\n",
        "        for x, y in tqdm(DataLoader(trainset, batch_size=BATCH_SIZE, shuffle=True), desc=\"Batches\", leave=False):\n",
        "            x, y = x.to(device), y.to(device)\n",
        "\n",
        "            logits_list = []\n",
        "            for i in range(vit.num_tokens):\n",
        "                logits = vit(x, token_index=i)\n",
        "                logits_list.append(logits)\n",
        "\n",
        "            ensemble_logits = torch.stack(logits_list, dim=0).mean(dim=0)\n",
        "            ensemble_loss_mean = F.cross_entropy(ensemble_logits, y)\n",
        "\n",
        "            kl_div = 0\n",
        "            for logits in logits_list:\n",
        "                log_probs = F.log_softmax(logits, dim=-1)\n",
        "                probs = F.softmax(ensemble_logits, dim=-1) + 1e-8  # for numerical stability\n",
        "                kl_div += F.kl_div(log_probs, probs, reduction='batchmean')\n",
        "\n",
        "            kl_div /= len(logits_list)\n",
        "\n",
        "            loss = ensemble_loss_mean - lambda_kl*kl_div\n",
        "\n",
        "            epoch_ensemble_loss += ensemble_loss_mean.item()\n",
        "\n",
        "            opt_custom.zero_grad()\n",
        "            loss.backward()\n",
        "            torch.nn.utils.clip_grad_norm_(vit.parameters(), 1)\n",
        "            opt_custom.step()\n",
        "\n",
        "        scheduler_custom.step()\n",
        "\n",
        "        avg_ensemble_loss = epoch_ensemble_loss / len(DataLoader(trainset))\n",
        "\n",
        "        if cycle == 0:\n",
        "            cycle_1_losses.append(avg_ensemble_loss)\n",
        "        elif cycle == 1:\n",
        "            cycle_2_losses.append(avg_ensemble_loss)\n",
        "        elif cycle == 2:\n",
        "            cycle_3_losses.append(avg_ensemble_loss)\n",
        "\n",
        "        ensemble_losses_per_epoch.append(avg_ensemble_loss)\n",
        "\n",
        "        print(f\"Epoch {epoch + 1}/{epochs_per_cycle} - Cycle {cycle + 1}\")\n",
        "        print(f\"Ensemble Loss (mean): {avg_ensemble_loss:.4f}\\n\")\n",
        "\n",
        "    # Save snapshot\n",
        "    snapshot = {\n",
        "        'epoch': epoch+1,\n",
        "        'model_state_dict': vit.state_dict(),\n",
        "        'optimizer_state_dict': opt_custom.state_dict(),\n",
        "        'scheduler_state_dict': scheduler_custom.state_dict(),\n",
        "        'ensemble_losses': ensemble_losses_per_epoch,\n",
        "        'cycle_1_loss':cycle_1_losses,\n",
        "        'cycle_2_loss':cycle_2_losses,\n",
        "        'cycle_3_loss':cycle_3_losses,\n",
        "    }\n",
        "    snapshots.append(snapshot)\n",
        "\n",
        "# Save snapshots\n",
        "for i, snapshot in enumerate(snapshots):\n",
        "    torch.save(snapshot, f'/PATH_TO_SAVE_THE_SNAPSHOTS_{i + 1}.pth')\n"
      ],
      "metadata": {
        "id": "3ayxeYD1WSdd"
      },
      "execution_count": null,
      "outputs": []
    },
    {
      "cell_type": "markdown",
      "source": [
        "#Tests"
      ],
      "metadata": {
        "id": "wrC6AWZx9Bbo"
      }
    },
    {
      "cell_type": "markdown",
      "source": [
        "##Wrappers and loading Checkpoints"
      ],
      "metadata": {
        "id": "xLlsFewZ9Dh4"
      }
    },
    {
      "cell_type": "markdown",
      "source": [
        "These wrappers are useful to insert all subnetworks in a unique model that returns the logits, so that the model can be used in  libraries such as `torchattacks` or `pytorch-ood`.\n",
        "\n",
        "Given `custom_vit` is the ViT with 3 subnetworks trained, is possible to wrap it as:\n",
        "\n",
        "```\n",
        "custom_ensemble = CustomVitEnsemble_3(custom_vit)\n",
        "```\n",
        "\n"
      ],
      "metadata": {
        "id": "_3wgguNR9FDj"
      }
    },
    {
      "cell_type": "markdown",
      "source": [
        "###Ensemble x3 and x5 subnetworks wrappers"
      ],
      "metadata": {
        "id": "97jGgOJa-Kef"
      }
    },
    {
      "cell_type": "code",
      "source": [
        "class CustomVitEnsemble_3(torch.nn.Module):\n",
        "    def __init__(self, vit_model):\n",
        "        super(CustomVitEnsemble_3, self).__init__()\n",
        "        self.vit_model = vit_model\n",
        "\n",
        "    def forward(self, x):\n",
        "\n",
        "        logits_0 = self.vit_model(x, 0)\n",
        "        logits_1 = self.vit_model(x, 1)\n",
        "        logits_2 = self.vit_model(x, 2)\n",
        "\n",
        "        ensemble_logits = (logits_0 + logits_1 + logits_2 ) / 3\n",
        "        return ensemble_logits\n"
      ],
      "metadata": {
        "id": "LpIhJXPMB5NW"
      },
      "execution_count": null,
      "outputs": []
    },
    {
      "cell_type": "code",
      "source": [
        "class CustomVitEnsemble_5(torch.nn.Module):\n",
        "    def __init__(self, vit_model):\n",
        "        super(CustomVitEnsemble_5, self).__init__()\n",
        "        self.vit_model = vit_model\n",
        "\n",
        "    def forward(self, x):\n",
        "\n",
        "        logits_0 = self.vit_model(x, 0)\n",
        "        logits_1 = self.vit_model(x, 1)\n",
        "        logits_2 = self.vit_model(x, 2)\n",
        "        logits_3 = self.vit_model(x, 3)\n",
        "        logits_4 = self.vit_model(x, 4)\n",
        "\n",
        "        ensemble_logits = (logits_0 + logits_1 + logits_2 + logits_3 + logits_4) / 5\n",
        "        return ensemble_logits"
      ],
      "metadata": {
        "id": "CT1o-jHpCfU4"
      },
      "execution_count": null,
      "outputs": []
    },
    {
      "cell_type": "markdown",
      "source": [
        "###Snapshot Wrapper"
      ],
      "metadata": {
        "id": "v7MdqqbB-AA8"
      }
    },
    {
      "cell_type": "code",
      "source": [
        "snapshots = ['SNAPSHOT_1_PATH',\n",
        "             'SNAPSHOT_2_PATH',\n",
        "             'SNAPSHOT_3_PATH',\n",
        "             '................']\n",
        "\n",
        "\n",
        "class CustomVitSnaphot(nn.Module):\n",
        "    def __init__(self, vit_model, snapshot_paths):\n",
        "        super(CustomVitSnaphot, self).__init__()\n",
        "        self.vit_models = nn.ModuleList([vit_model for _ in snapshot_paths])\n",
        "        self.snapshot_paths = snapshot_paths\n",
        "\n",
        "        # Load each model with its corresponding snapshot\n",
        "        for model, path in zip(self.vit_models, self.snapshot_paths):\n",
        "            snapshot = torch.load(path)\n",
        "            model.load_state_dict(snapshot['model_state_dict'])\n",
        "            model.eval()  # Set each model to evaluation mode\n",
        "\n",
        "    def forward(self, x):\n",
        "        # Initialize logits accumulator\n",
        "        total_logits = 0\n",
        "\n",
        "        for model in self.vit_models:\n",
        "            for i in range(model.num_tokens):\n",
        "                logits = model(x, i)\n",
        "                total_logits += logits[:, :10]\n",
        "\n",
        "        ensemble_logits = total_logits / (len(self.vit_models) * len(self.snapshot_paths))\n",
        "        return ensemble_logits"
      ],
      "metadata": {
        "id": "eqi66dHwNnMi"
      },
      "execution_count": null,
      "outputs": []
    },
    {
      "cell_type": "markdown",
      "source": [
        "###Loading Checkpoints"
      ],
      "metadata": {
        "id": "I-Z_1nCZ_dfy"
      }
    },
    {
      "cell_type": "markdown",
      "source": [
        "In order to test any of the models even after training, load the checkpoints as follows:"
      ],
      "metadata": {
        "id": "S_0EEhLs-hUX"
      }
    },
    {
      "cell_type": "code",
      "source": [
        "device = torch.device('cuda' if torch.cuda.is_available() else 'cpu')\n",
        "\n",
        "custom_vit = timm.create_model('deit_tiny_patch16_224.fb_in1k', pretrained=True)\n",
        "custom_vit = CustomVit(custom_vit)\n",
        "checkpoint = torch.load('PATH_OF_THE_CHECKPOINT')\n",
        "custom_vit.load_state_dict(checkpoint['model_state_dict'])\n",
        "custom_vit.to(device)\n",
        "\n"
      ],
      "metadata": {
        "id": "cthCMf-Ff0Pm"
      },
      "execution_count": null,
      "outputs": []
    },
    {
      "cell_type": "markdown",
      "source": [
        "##Standard performance test"
      ],
      "metadata": {
        "id": "A53-17W-HAyo"
      }
    },
    {
      "cell_type": "markdown",
      "source": [
        "There is an example of a standard test to analyze model's accuracy, precision, recall, F1 score, ECE and Confusion Matrix.\n",
        "\n",
        "This particular case is for a Custom ViT with 3 subnetworks, but it could be easily generalized for more, or even shrink with the use of the wrappers if single subnetworks are not relevant for the analysis."
      ],
      "metadata": {
        "id": "C7EuYWGE_8FU"
      }
    },
    {
      "cell_type": "code",
      "source": [
        "true_labels = []\n",
        "predictions_ensemble = []\n",
        "\n",
        "with torch.no_grad():\n",
        "   custom_vit.eval()\n",
        "\n",
        "    c, c1, c2, c3, t = 0, 0, 0, 0, 0\n",
        "    ece_metric_ensemble = 0.0\n",
        "\n",
        "    for x, y in DataLoader(testset, batch_size=BATCH_SIZE, shuffle=False):\n",
        "        x, y = x.to(device), y.to(device)\n",
        "\n",
        "        # Forward pass for each subnetwork\n",
        "        logits_1 = custom_vit(x, 0)[:, :10]\n",
        "        logits_2 = custom_vit(x, 1)[:, :10]\n",
        "        logits_3 = custom_vit(x, 2)[:, :10]\n",
        "\n",
        "        # Ensembling\n",
        "        ensemble_logits = (logits_1 + logits_2 + logits_3) / 3\n",
        "        final_predictions = ensemble_logits.argmax(dim=-1)\n",
        "\n",
        "        # Collect predictions and true labels\n",
        "        predictions_ensemble.extend(final_predictions.cpu().numpy())\n",
        "        true_labels.extend(y.cpu().numpy())\n",
        "\n",
        "        # Accuracy calculations\n",
        "        c +=  (final_predictions == y).sum().item()\n",
        "        c1 += (logits_1.argmax(dim=-1) == y).sum().item()\n",
        "        c2 += (logits_2.argmax(dim=-1) == y).sum().item()\n",
        "        c3 += (logits_3.argmax(dim=-1) == y).sum().item()\n",
        "\n",
        "        # ECE calculation\n",
        "        ensemble_probs = F.softmax(ensemble_logits, dim=-1)\n",
        "        ece_value_e = multiclass_calibration_error(ensemble_probs, y, num_classes=10, n_bins=15, norm=\"l1\")\n",
        "        ece_metric_ensemble += ece_value_e.item() * len(x)\n",
        "\n",
        "        t += len(x)\n",
        "\n",
        "# Calculate accuracy and ECE\n",
        "accuracy_ensemble = c / t\n",
        "ece_ensemble = ece_metric_ensemble / t\n",
        "\n",
        "print(f\"Accuracy for 1: {c1 / t}\\nAccuracy for 2: {c2 / t}\\nAccuracy for 3: {c3 / t}\\n\\nAccuracy for the Ensemble: {accuracy_ensemble}\")\n",
        "print(f\"ECE for the Ensemble: {ece_ensemble}\")\n",
        "\n",
        "# Convert true labels and predictions to numpy arrays\n",
        "true_labels = np.array(true_labels)\n",
        "predictions_ensemble = np.array(predictions_ensemble)\n",
        "\n",
        "# Calculate precision, recall, F1 score, and confusion matrix\n",
        "precision_ensemble = precision_score(true_labels, predictions_ensemble, average='macro', zero_division=0)\n",
        "recall_ensemble = recall_score(true_labels, predictions_ensemble, average='macro', zero_division=0)\n",
        "f1_ensemble = f1_score(true_labels, predictions_ensemble, average='macro')\n",
        "cm_ensemble = confusion_matrix(true_labels, predictions_ensemble)\n",
        "\n",
        "# Print performance metrics\n",
        "print(f\"Ensemble - Precision: {precision_ensemble}, Recall: {recall_ensemble}, F1 Score: {f1_ensemble}\")\n",
        "\n",
        "# Plot confusion matrix\n",
        "plt.figure(figsize=(7, 5))\n",
        "sns.heatmap(cm_ensemble, annot=True, fmt='d', cmap='Blues')\n",
        "plt.title('Confusion Matrix for Average Ensemble (3 Subnetworks)')\n",
        "plt.xlabel('Predicted')\n",
        "plt.ylabel('True')\n",
        "plt.show()\n"
      ],
      "metadata": {
        "id": "vQ7Mp8npfuXH",
        "colab": {
          "base_uri": "https://localhost:8080/",
          "height": 609
        },
        "outputId": "e99cff12-fe64-4c60-8766-086246139437"
      },
      "execution_count": null,
      "outputs": [
        {
          "output_type": "stream",
          "name": "stdout",
          "text": [
            "Accuracy for 1: 0.9862420382165605\n",
            "Accuracy for 2: 0.9859872611464968\n",
            "Accuracy for 3: 0.9857324840764331\n",
            "\n",
            "Accuracy for the Ensemble: 0.9854777070063694\n",
            "ECE for the Ensemble: 0.013891195748831816\n",
            "Ensemble - Precision: 0.9855961131345918, Recall: 0.9855178450216249, F1 Score: 0.9855442809930726\n"
          ]
        },
        {
          "output_type": "display_data",
          "data": {
            "text/plain": [
              "<Figure size 700x500 with 2 Axes>"
            ],
            "image/png": "[encoded data removed]"
          },
          "metadata": {}
        }
      ]
    },
    {
      "cell_type": "markdown",
      "source": [
        "##Tests with Gaussian Noised Input"
      ],
      "metadata": {
        "id": "FdqBAgX5mVOa"
      }
    },
    {
      "cell_type": "markdown",
      "source": [
        "For this test, the `make_it_noisy` function allows to corrupt the input with Gaussian Noise."
      ],
      "metadata": {
        "id": "xbC6-P4lDdKd"
      }
    },
    {
      "cell_type": "code",
      "source": [
        "def make_it_noisy(x, mean=0.0, std=0.1):\n",
        "    noise = torch.randn_like(x) * std + mean\n",
        "    return torch.clamp(x + noise, 0, 1)"
      ],
      "metadata": {
        "id": "rj6ZDD7ei8pN"
      },
      "execution_count": null,
      "outputs": []
    },
    {
      "cell_type": "markdown",
      "source": [
        "Again, the example shows the test run for a Custom ViT with 3 subnetworks.\n",
        "Moreover, it is possible to vary the noise levels."
      ],
      "metadata": {
        "id": "a1IAkPVKDw_o"
      }
    },
    {
      "cell_type": "code",
      "source": [
        "noise_mean = 0.0\n",
        "noise_levels = [0.01, 0.06, 0.1, 0.2, 0.3, 0.4, 0.5, 0.6, 0.7, 0.8, 0.9, 1.0]\n",
        "results = []\n",
        "\n",
        "for noise_std in noise_levels:\n",
        "    print(f\"\\nTesting with noise standard deviation: {noise_std}\")\n",
        "\n",
        "    ece_metric_ensemble_custom_3 = 0.0\n",
        "    accuracy_custom_3 = 0\n",
        "    c_custom3, t = 0, 0\n",
        "\n",
        "    with torch.no_grad():\n",
        "        custom_vit.eval()\n",
        "\n",
        "        for x, y in DataLoader(testset, batch_size=BATCH_SIZE, shuffle=False):\n",
        "            x, y = x.to(device), y.to(device)\n",
        "\n",
        "            # Adding noise\n",
        "            noisy_x = make_it_noisy(x, mean=noise_mean, std=noise_std)\n",
        "\n",
        "            # Custom ensemble 3 subnetworks\n",
        "            logits3_0 = custom_vit(noisy_x, 0)\n",
        "            logits3_1 = custom_vit(noisy_x, 1)\n",
        "            logits3_2 = custom_vit(noisy_x, 2)\n",
        "\n",
        "            logits3_0 = logits3_0[:, :10]\n",
        "            logits3_1 = logits3_1[:, :10]\n",
        "            logits3_2 = logits3_2[:, :10]\n",
        "\n",
        "            ensemble_logits_custom_3 = (logits3_0 + logits3_1 + logits3_2) / 3\n",
        "            final_predictions_custom_3 = ensemble_logits_custom_3.argmax(dim=-1)\n",
        "\n",
        "            # Accuracy\n",
        "            c_custom3 += (final_predictions_custom_3 == y).sum().item()\n",
        "\n",
        "            # ECE\n",
        "            ensemble_probs_custom_3 = F.softmax(ensemble_logits_custom_3, dim=-1)\n",
        "            ece_value_custom_3 = multiclass_calibration_error(ensemble_probs_custom_3, y, num_classes=10, n_bins=15, norm=\"l1\")\n",
        "            ece_metric_ensemble_custom_3 += ece_value_custom_3.item() * len(x)\n",
        "\n",
        "            t += len(x)\n",
        "\n",
        "        accuracy_custom_3 = c_custom3 / t\n",
        "        ece_ensemble_custom_3 = ece_metric_ensemble_custom_3 / t\n",
        "\n",
        "        # Print results\n",
        "        print(f\"Custom Ensemble 3 Accuracy (Noisy Input): {accuracy_custom_3:.4f}\")\n",
        "        print(f\"ECE for Custom Ensemble 3: {ece_ensemble_custom_3:.4f}\")\n",
        "\n",
        "        results.append({\n",
        "            \"noise_std\": noise_std,\n",
        "            \"accuracy_custom_3\": accuracy_custom_3,\n",
        "            \"ece_custom_3\": ece_ensemble_custom_3\n",
        "        })\n",
        "\n",
        "print(\"\\nSummary of Results:\")\n",
        "for res in results:\n",
        "    print(f\"Noise Std: {res['noise_std']:.2f} | Accuracy: {res['accuracy_custom_3']:.4f} | ECE: {res['ece_custom_3']:.4f}\")\n"
      ],
      "metadata": {
        "id": "BjXrax4_rvbD"
      },
      "execution_count": null,
      "outputs": []
    },
    {
      "cell_type": "markdown",
      "source": [
        "##Test with Adversarial attack"
      ],
      "metadata": {
        "id": "K-d4jBe1GXao"
      }
    },
    {
      "cell_type": "markdown",
      "source": [
        "In this section, there are many tests run with the library [torchattacks](https://github.com/Harry24k/adversarial-attacks-pytorch).\n",
        "\n",
        "Again, showed tests are for Custom ViT with 3 subnetworks, wrapped with the dedicated class shown above.\n",
        "\n",
        "All the parameters for the attacks can be modified to enhance the attack's perturbation."
      ],
      "metadata": {
        "id": "hm_9gBxrED47"
      }
    },
    {
      "cell_type": "markdown",
      "source": [
        "###FGSM Attack"
      ],
      "metadata": {
        "id": "rkmTCn_z58QS"
      }
    },
    {
      "cell_type": "code",
      "source": [
        "BATCH_SIZE=16\n",
        "custom_ensemble = CustomVitEnsemble_3(custom_vit)\n",
        "\n",
        "# Initialize attacks\n",
        "FGSM_attack = torchattacks.FGSM(custom_ensemble, eps=8/255)\n",
        "\n",
        "results = []\n",
        "\n",
        "ece_metric_ensemble_custom_3 = 0.0\n",
        "accuracy_custom_3 =  0\n",
        "c_custom_3, t = 0, 0\n",
        "\n",
        "with torch.no_grad():\n",
        "  custom_vit.eval()\n",
        "\n",
        "for x, y in DataLoader(testset, batch_size=BATCH_SIZE, shuffle=False):\n",
        "    x, y = x.to(device), y.to(device)\n",
        "    x.requires_grad = True\n",
        "\n",
        "    # Generate adversarial examples using FGSM\n",
        "    adversarial_input = FGSM_attack(x, y)\n",
        "\n",
        "    # Test the model\n",
        "    ensemble_logits_custom_3 = custom_ensemble(adversarial_input)\n",
        "    ensemble_logits_custom_3 = ensemble_logits_custom_3[:, :10]\n",
        "    final_predictions_custom_3 = ensemble_logits_custom_3.argmax(dim=-1)\n",
        "\n",
        "    # Accuracy\n",
        "    c_custom_3 += (final_predictions_custom_3 == y).sum().item()\n",
        "\n",
        "    # ECE\n",
        "    ensemble_probs_custom_3 = F.softmax(ensemble_logits_custom_3, dim=-1)\n",
        "    ece_value_custom_3 = multiclass_calibration_error(ensemble_probs_custom_3, y, num_classes=10, n_bins=15, norm=\"l1\")\n",
        "    ece_metric_ensemble_custom_3 += ece_value_custom_3.item() * len(x)\n",
        "\n",
        "\n",
        "    t += len(x)\n",
        "\n",
        "\n",
        "accuracy_custom_3 = c_custom_3 / t\n",
        "\n",
        "\n",
        "ece_ensemble_custom_3 = ece_metric_ensemble_custom_3 / t\n",
        "\n",
        "\n",
        "# Store results\n",
        "results.append({\n",
        "    \"accuracy_custom_3\": accuracy_custom_3,\n",
        "    \"ece_custom_3\": ece_ensemble_custom_3,\n",
        "})\n",
        "\n",
        "# Print summary of results\n",
        "print(\"Summary of Results for FGSM Attack:\")\n",
        "for res in results:\n",
        "    print(f\"Accuracy: {res['accuracy_custom_3']:.4f}| \"f\"ECE: {res['ece_custom_3']:.4f}\")\n"
      ],
      "metadata": {
        "id": "v8rldQUtHKBo"
      },
      "execution_count": null,
      "outputs": []
    },
    {
      "cell_type": "markdown",
      "source": [
        "###PGD Attack"
      ],
      "metadata": {
        "id": "LMl69S245-96"
      }
    },
    {
      "cell_type": "code",
      "source": [
        "BATCH_SIZE = 16\n",
        "custom_ensemble = CustomVitEnsemble_3(custom_vit)\n",
        "\n",
        "# Initialize attacks\n",
        "PGD_attack = torchattacks.PGD(custom_ensemble, eps=1/255, alpha=1/510, steps=5, random_start=False)\n",
        "\n",
        "# Results\n",
        "results = []\n",
        "\n",
        "ece_metric_ensemble_custom_3 = 0.0\n",
        "accuracy_custom_3, = 0\n",
        "c_custom_3, t = 0, 0\n",
        "\n",
        "with torch.no_grad():\n",
        "    custom_vit.eval()\n",
        "\n",
        "for x, y in DataLoader(testset, batch_size=BATCH_SIZE, shuffle=False):\n",
        "    x, y = x.to(device), y.to(device)\n",
        "    x.requires_grad = True\n",
        "\n",
        "    # Generate adversarial examples using PGD\n",
        "    adversarial_input = PGD_attack(x, y)\n",
        "\n",
        "    # Ensemble\n",
        "    ensemble_logits_custom_3 = custom_ensemble(adversarial_input)\n",
        "    ensemble_logits_custom_3 = ensemble_logits_custom_3[:, :10]\n",
        "    final_predictions_custom_3 = ensemble_logits_custom_3.argmax(dim=-1)\n",
        "    # Accuracy\n",
        "    c_custom_3 += (final_predictions_custom_3 == y).sum().item()\n",
        "    # ECE\n",
        "    ensemble_probs_custom_3 = F.softmax(ensemble_logits_custom_3, dim=-1)\n",
        "    ece_value_custom_3 = multiclass_calibration_error(ensemble_probs_custom_3, y, num_classes=10, n_bins=15, norm=\"l1\")\n",
        "    ece_metric_ensemble_custom_3 += ece_value_custom_3.item() * len(x)\n",
        "\n",
        "    t += len(x)\n",
        "\n",
        "accuracy_custom_3 = c_custom_3 / t\n",
        "\n",
        "ece_ensemble_custom_3 = ece_metric_ensemble_custom_3 / t\n",
        "\n",
        "# Store results\n",
        "results.append({\n",
        "    \"accuracy_custom_3\": accuracy_custom_3,\n",
        "    \"ece_custom_3\": ece_ensemble_custom_3,\n",
        "})\n",
        "\n",
        "# Print summary of results\n",
        "print(\"Summary of Results for PGD Attack:\")\n",
        "for res in results:\n",
        "    print(f\"Accuracy: {res['accuracy_custom_3']:.4f}| \"f\"ECE: {res['ece_custom_3']:.4f}\")\n"
      ],
      "metadata": {
        "id": "qSfCPQIRv9RO"
      },
      "execution_count": null,
      "outputs": []
    },
    {
      "cell_type": "markdown",
      "source": [
        "###Square Attack"
      ],
      "metadata": {
        "id": "hViVn7Wn6BYF"
      }
    },
    {
      "cell_type": "code",
      "source": [
        "BATCH_SIZE = 16\n",
        "custom_ensemble = CustomVitEnsemble_3(custom_vit)\n",
        "\n",
        "# Initialize attacks\n",
        "Square_attack = torchattacks.Square(custom_ensemble, norm='Linf', eps=4/255, n_queries=50, n_restarts=1, p_init=.8, seed=0, verbose=False, loss='margin', resc_schedule=True)\n",
        "\n",
        "# Results\n",
        "results = []\n",
        "\n",
        "ece_metric_ensemble_custom_3 = 0.0\n",
        "accuracy_custom_3 = 0\n",
        "c_custom_3, t = 0, 0\n",
        "\n",
        "with torch.no_grad():\n",
        "    custom_vit.eval()\n",
        "\n",
        "for x, y in DataLoader(testset, batch_size=BATCH_SIZE, shuffle=False):\n",
        "    x, y = x.to(device), y.to(device)\n",
        "    x.requires_grad = True\n",
        "\n",
        "    # Generate adversarial examples using Square attack\n",
        "    adversarial_input = Square_attack(x, y)\n",
        "\n",
        "    # Ensemble\n",
        "    ensemble_logits_custom_3 = custom_ensemble(adversarial_input)\n",
        "    ensemble_logits_custom_3 = ensemble_logits_custom_3[:, :10]\n",
        "    final_predictions_custom_3 = ensemble_logits_custom_3.argmax(dim=-1)\n",
        "    # Accuracy\n",
        "    c_custom_3 += (final_predictions_custom_3 == y).sum().item()\n",
        "    # ECE\n",
        "    ensemble_probs_custom_3 = F.softmax(ensemble_logits_custom_3, dim=-1)\n",
        "    ece_value_custom_3 = multiclass_calibration_error(ensemble_probs_custom_3, y, num_classes=10, n_bins=15, norm=\"l1\")\n",
        "    ece_metric_ensemble_custom_3 += ece_value_custom_3.item() * len(x)\n",
        "\n",
        "    t += len(x)\n",
        "\n",
        "accuracy_custom_3 = c_custom_3 / t\n",
        "\n",
        "ece_ensemble_custom_3 = ece_metric_ensemble_custom_3 / t\n",
        "\n",
        "# Store results\n",
        "results.append({\n",
        "    \"accuracy_custom_3\": accuracy_custom_3,\n",
        "    \"ece_custom_3\": ece_ensemble_custom_3,\n",
        "})\n",
        "\n",
        "# Print summary of results\n",
        "print(\"Summary of Results for Square Attack:\")\n",
        "for res in results:\n",
        "    print(f\"Accuracy: {res['accuracy_custom_3']:.4f}| \"f\"ECE: {res['ece_custom_3']:.4f}\")\n"
      ],
      "metadata": {
        "id": "Z6WZrWQe4WDq"
      },
      "execution_count": null,
      "outputs": []
    },
    {
      "cell_type": "markdown",
      "source": [
        "###CW Attack"
      ],
      "metadata": {
        "id": "poF9r6sE6Dqp"
      }
    },
    {
      "cell_type": "code",
      "source": [
        "BATCH_SIZE = 16\n",
        "custom_ensemble = CustomVitEnsemble_3(custom_vit)\n",
        "\n",
        "# Initialize attacks\n",
        "CW_attack = torchattacks.CW(custom_ensemble, c=0.1, steps=5, lr=0.01)\n",
        "\n",
        "# Results\n",
        "results = []\n",
        "\n",
        "ece_metric_ensemble_custom_3 = 0.0\n",
        "accuracy_custom_3 = 0\n",
        "c_custom_3, t = 0, 0\n",
        "\n",
        "with torch.no_grad():\n",
        "    custom_vit.eval()\n",
        "\n",
        "for x, y in DataLoader(testset, batch_size=BATCH_SIZE, shuffle=False):\n",
        "    x, y = x.to(device), y.to(device)\n",
        "    x.requires_grad = True\n",
        "\n",
        "    # Generate adversarial examples using CW attack\n",
        "    adversarial_input = CW_attack(x, y)\n",
        "\n",
        "    # Ensemble\n",
        "    ensemble_logits_custom_3 = custom_ensemble(adversarial_input)\n",
        "    ensemble_logits_custom_3 = ensemble_logits_custom_3[:, :10]\n",
        "    final_predictions_custom_3 = ensemble_logits_custom_3.argmax(dim=-1)\n",
        "    # Accuracy\n",
        "    c_custom_3 += (final_predictions_custom_3 == y).sum().item()\n",
        "    # ECE\n",
        "    ensemble_probs_custom_3 = F.softmax(ensemble_logits_custom_3, dim=-1)\n",
        "    ece_value_custom_3 = multiclass_calibration_error(ensemble_probs_custom_3, y, num_classes=10, n_bins=15, norm=\"l1\")\n",
        "    ece_metric_ensemble_custom_3 += ece_value_custom_3.item() * len(x)\n",
        "\n",
        "    t += len(x)\n",
        "\n",
        "accuracy_custom_3 = c_custom_3 / t\n",
        "\n",
        "ece_ensemble_custom_3 = ece_metric_ensemble_custom_3 / t\n",
        "\n",
        "# Store results\n",
        "results.append({\n",
        "    \"accuracy_custom_3\": accuracy_custom_3,\n",
        "    \"ece_custom_3\": ece_ensemble_custom_3,\n",
        "})\n",
        "\n",
        "# Print summary of results\n",
        "print(\"Summary of Results for CW Attack:\")\n",
        "for res in results:\n",
        "    print(f\"Accuracy: {res['accuracy_custom_3']:.4f}| \"f\"ECE: {res['ece_custom_3']:.4f}\")\n"
      ],
      "metadata": {
        "id": "Bd-lmyO148zw",
        "collapsed": true
      },
      "execution_count": null,
      "outputs": []
    },
    {
      "cell_type": "markdown",
      "source": [
        "##Test with OOD"
      ],
      "metadata": {
        "id": "Mj63-hQfQS6E"
      }
    },
    {
      "cell_type": "markdown",
      "source": [
        "In this section, an OOD analysis is performed thanks to [pytorch-ood](https://github.com/kkirchheim/pytorch-ood) library.\n",
        "\n",
        "The two detectors used are MaxSoftmax and ODIN.\n",
        "\n",
        "Again, the examples below are for a Custom ViT with 3 subnetworks wrapped in its dedicated class.\n",
        "\n",
        "It is possible to not use one of the 11 OOD databases, or change the model analyzed."
      ],
      "metadata": {
        "id": "yYS22qgTG79X"
      }
    },
    {
      "cell_type": "markdown",
      "source": [
        "###MaxSoftmax"
      ],
      "metadata": {
        "id": "0J_lQbFp619s"
      }
    },
    {
      "cell_type": "code",
      "source": [
        "custom_ensemble = CustomVitEnsemble_3(custom_vit)\n",
        "\n",
        "results = []\n",
        "\n",
        "train_dataloader = DataLoader(testset, batch_size=64, shuffle=False)\n",
        "\n",
        "ood_transform = T.Compose([\n",
        "    T.Resize((224, 224)),\n",
        "    T.ToTensor(),\n",
        "])\n",
        "ood_transform_2 = T.Compose([\n",
        "    T.Resize((224, 224)),\n",
        "    T.Grayscale(num_output_channels=3),\n",
        "    T.ToTensor(),\n",
        "])\n",
        "\n",
        "ood_dataset_names = [\n",
        "    \"CIFAR-10\", \"CIFAR-100\", \"MNIST\", \"FashionMNIST\", \"LSUN (Resize)\", \"LSUN (Crop)\",\n",
        "    \"Places365\", \"Textures\", \"Tiny ImageNet\", \"Tiny ImageNet (Crop)\", \"Tiny ImageNet (Resize)\"\n",
        "]\n",
        "with open(os.devnull, 'w') as f, contextlib.redirect_stdout(f):\n",
        "  oodset_1 = torchvision.datasets.CIFAR10(root='./data', train=False, download=True, transform=ood_transform)\n",
        "  oodset_2 = torchvision.datasets.CIFAR100(root='./data', train=False, download=True, transform=ood_transform)\n",
        "  oodset_3 = torchvision.datasets.MNIST(root='./data', train=False, download=True, transform=ood_transform_2)\n",
        "  oodset_4 = torchvision.datasets.FashionMNIST(root='./data', train=False, download=True, transform=ood_transform_2)\n",
        "  oodset_5 = LSUNResize(root=\"./data\", download=True, transform=ood_transform)\n",
        "  oodset_6 = LSUNCrop(root=\"./data\", download=True, transform=ood_transform)\n",
        "  oodset_7 = Places365(root=\"./data\", download=True, transform=ood_transform_2)\n",
        "  oodset_8 = Textures(root=\"./data\", download=True, transform=ood_transform)\n",
        "  oodset_9 = TinyImageNet(root=\"./data\", download=True, transform=ood_transform_2)\n",
        "  oodset_10 = TinyImageNetCrop(root=\"./data\", download=True, transform=ood_transform)\n",
        "  oodset_11 = TinyImageNetResize(root=\"./data\", download=True, transform=ood_transform)\n",
        "\n",
        "oodloaders = [\n",
        "    DataLoader(oodset_1, batch_size=64, shuffle=False),\n",
        "    DataLoader(oodset_2, batch_size=64, shuffle=False),\n",
        "    DataLoader(oodset_3, batch_size=64, shuffle=False),\n",
        "    DataLoader(oodset_4, batch_size=64, shuffle=False),\n",
        "    DataLoader(oodset_5, batch_size=64, shuffle=False),\n",
        "    DataLoader(oodset_6, batch_size=64, shuffle=False),\n",
        "    DataLoader(oodset_7, batch_size=64, shuffle=False),\n",
        "    DataLoader(oodset_8, batch_size=64, shuffle=False),\n",
        "    DataLoader(oodset_9, batch_size=64, shuffle=False),\n",
        "    DataLoader(oodset_10, batch_size=64, shuffle=False),\n",
        "    DataLoader(oodset_11, batch_size=64, shuffle=False)\n",
        "]\n",
        "\n",
        "custom_ensemble.eval()\n",
        "print(\"Printing OOD metrics for Custom Ensemble with 3 subnetworks:\")\n",
        "\n",
        "for dataset_name, oodloader in zip(ood_dataset_names, oodloaders):\n",
        "  with torch.no_grad():\n",
        "\n",
        "    print(f\"Testing OOD metrics for {dataset_name}\")\n",
        "    detector = MaxSoftmax(model=custom_ensemble)\n",
        "    detector.fit(train_dataloader, device=device)\n",
        "\n",
        "    all_x = []\n",
        "    all_y = []\n",
        "\n",
        "    for batch in DataLoader(testset, batch_size=64):\n",
        "        x, y = batch\n",
        "\n",
        "        x = x.to(device)\n",
        "        x = detector(x)\n",
        "\n",
        "        all_x.append(x.cpu().numpy())\n",
        "        all_y.extend([0] * len(x))\n",
        "\n",
        "    for batch in oodloader:\n",
        "        x, y = batch\n",
        "\n",
        "        x = x.to(device)\n",
        "        x = detector(x)\n",
        "\n",
        "        all_x.append(x.cpu().numpy())\n",
        "        all_y.extend([-1] * len(x))\n",
        "\n",
        "    all_y = np.asarray(all_y)\n",
        "    all_x = np.concatenate(all_x)\n",
        "\n",
        "    metric = OODMetrics()\n",
        "\n",
        "    metric.update(torch.tensor(all_x).squeeze(), torch.tensor(all_y).squeeze())\n",
        "    r = {\"Dataset\": dataset_name}\n",
        "\n",
        "    r.update(metric.compute())\n",
        "    results.append(r)\n",
        "\n",
        "df_custom_ensemble_MaxSoftmax = pd.DataFrame(results)\n",
        "print(tabulate(df_custom_ensemble_MaxSoftmax, headers='keys', tablefmt='grid', showindex=False))\n",
        "df_custom_ensemble_MaxSoftmax.to_csv('df_custom_ensemble_3_MaxSoftmax.csv', index=False)\n"
      ],
      "metadata": {
        "id": "KJTjSzrcCFNI"
      },
      "execution_count": null,
      "outputs": []
    },
    {
      "cell_type": "markdown",
      "source": [
        "###ODIN"
      ],
      "metadata": {
        "id": "Vp7X0a797FbP"
      }
    },
    {
      "cell_type": "code",
      "source": [
        "train_dataloader = DataLoader(testset, batch_size=64, shuffle=False)\n",
        "\n",
        "custom_ensemble = CustomVitEnsemble_3(custom_vit)\n",
        "\n",
        "results = []\n",
        "\n",
        "ood_transform = T.Compose([\n",
        "    T.Resize((224, 224)),\n",
        "    T.ToTensor(),\n",
        "])\n",
        "ood_transform_2 = T.Compose([\n",
        "    T.Resize((224, 224)),\n",
        "    T.Grayscale(num_output_channels=3),\n",
        "    T.ToTensor(),\n",
        "])\n",
        "\n",
        "ood_dataset_names = [\n",
        "    \"CIFAR-10\", \"CIFAR-100\", \"MNIST\", \"FashionMNIST\", \"LSUN (Resize)\", \"LSUN (Crop)\",\n",
        "    \"Places365\", \"Textures\", \"Tiny ImageNet\", \"Tiny ImageNet (Crop)\", \"Tiny ImageNet (Resize)\"\n",
        "]\n",
        "\n",
        "dataset_configs = {\n",
        "    \"CIFAR-10\": {\"norm_std\": 0.01, \"eps\": 0.002},\n",
        "    \"CIFAR-100\": {\"norm_std\": 0.01, \"eps\": 0.002},\n",
        "    \"MNIST\": {\"norm_std\": 0.05, \"eps\": 0.005},\n",
        "    \"FashionMNIST\": {\"norm_std\": 0.05, \"eps\": 0.005},\n",
        "    \"LSUN (Resize)\": {\"norm_std\": 0.05, \"eps\": 0.01},\n",
        "    \"LSUN (Crop)\": {\"norm_std\": 0.05, \"eps\": 0.01},\n",
        "    \"Places365\": {\"norm_std\": 0.05, \"eps\": 0.01},\n",
        "    \"Textures\": {\"norm_std\": 0.05, \"eps\": 0.01},\n",
        "    \"Tiny ImageNet\": {\"norm_std\": 0.05, \"eps\": 0.005},\n",
        "    \"Tiny ImageNet (Crop)\": {\"norm_std\": 0.05, \"eps\": 0.005},\n",
        "    \"Tiny ImageNet (Resize)\": {\"norm_std\": 0.05, \"eps\": 0.005},\n",
        "}\n",
        "\n",
        "with open(os.devnull, 'w') as f, contextlib.redirect_stdout(f):\n",
        "  oodset_1 = torchvision.datasets.CIFAR10(root='./data', train=False, download=True, transform=ood_transform)\n",
        "  oodset_2 = torchvision.datasets.CIFAR100(root='./data', train=False, download=True, transform=ood_transform)\n",
        "  oodset_3 = torchvision.datasets.MNIST(root='./data', train=False, download=True, transform=ood_transform_2)\n",
        "  oodset_4 = torchvision.datasets.FashionMNIST(root='./data', train=False, download=True, transform=ood_transform_2)\n",
        "  oodset_5 = LSUNResize(root=\"./data\", download=True, transform=ood_transform)\n",
        "  oodset_6 = LSUNCrop(root=\"./data\", download=True, transform=ood_transform)\n",
        "  oodset_7 = Places365(root=\"./data\", download=True, transform=ood_transform_2)\n",
        "  oodset_8 = Textures(root=\"./data\", download=True, transform=ood_transform)\n",
        "  oodset_9 = TinyImageNet(root=\"./data\", download=True, transform=ood_transform_2)\n",
        "  oodset_10 = TinyImageNetCrop(root=\"./data\", download=True, transform=ood_transform)\n",
        "  oodset_11 = TinyImageNetResize(root=\"./data\", download=True, transform=ood_transform)\n",
        "\n",
        "oodloaders = [\n",
        "    DataLoader(oodset_1, batch_size=64, shuffle=False),\n",
        "    DataLoader(oodset_2, batch_size=64, shuffle=False),\n",
        "    DataLoader(oodset_3, batch_size=64, shuffle=False),\n",
        "    DataLoader(oodset_4, batch_size=64, shuffle=False),\n",
        "    DataLoader(oodset_5, batch_size=64, shuffle=False),\n",
        "    DataLoader(oodset_6, batch_size=64, shuffle=False),\n",
        "    DataLoader(oodset_7, batch_size=64, shuffle=False),\n",
        "    DataLoader(oodset_8, batch_size=64, shuffle=False),\n",
        "    DataLoader(oodset_9, batch_size=64, shuffle=False),\n",
        "    DataLoader(oodset_10, batch_size=64, shuffle=False),\n",
        "    DataLoader(oodset_11, batch_size=64, shuffle=False)\n",
        "]\n",
        "\n",
        "custom_ensemble.eval()\n",
        "\n",
        "for dataset_name, oodloader in zip(ood_dataset_names, oodloaders):\n",
        "  with torch.no_grad():\n",
        "\n",
        "    norm_std = dataset_configs[dataset_name][\"norm_std\"]\n",
        "    eps = dataset_configs[dataset_name][\"eps\"]\n",
        "    print(f\"Testing OOD metrics for {dataset_name} (norm_std: {norm_std}, eps: {eps})\")\n",
        "\n",
        "    detector = ODIN(custom_ensemble,norm_std=torch.tensor([norm_std]), eps=eps)\n",
        "    detector.fit(train_dataloader, device=device)\n",
        "\n",
        "    all_x = []\n",
        "    all_y = []\n",
        "\n",
        "    for batch in DataLoader(testset, batch_size=64):\n",
        "        x, y = batch\n",
        "\n",
        "        x = x.to(device)\n",
        "        x = detector(x)\n",
        "\n",
        "        all_x.append(x.cpu().numpy())\n",
        "        all_y.extend([0] * len(x))\n",
        "\n",
        "    for batch in oodloader:\n",
        "        x, y = batch\n",
        "\n",
        "        x = x.to(device)\n",
        "        x = detector(x)\n",
        "\n",
        "        all_x.append(x.cpu().numpy())\n",
        "        all_y.extend([-1] * len(x))\n",
        "\n",
        "    all_y = np.asarray(all_y)\n",
        "    all_x = np.concatenate(all_x)\n",
        "\n",
        "    metric = OODMetrics()\n",
        "    metric.update(torch.tensor(all_x).squeeze(), torch.tensor(all_y).squeeze())\n",
        "\n",
        "    r = {\"Dataset\": dataset_name,\"Std\": norm_std,\"eps\":eps}\n",
        "\n",
        "    r.update(metric.compute())\n",
        "    results.append(r)\n",
        "\n",
        "df_custom_ensemble_ODIN = pd.DataFrame(results)\n",
        "print(tabulate(df_custom_ensemble_ODIN, headers='keys', tablefmt='grid', showindex=False))\n",
        "df_custom_ensemble_ODIN.to_csv('df_custom_ensemble_3_ODIN.csv', index=False)"
      ],
      "metadata": {
        "id": "r9NM1lT44oHU"
      },
      "execution_count": null,
      "outputs": []
    }
  ],
  "metadata": {
    "accelerator": "GPU",
    "colab": {
      "gpuType": "T4",
      "provenance": [],
      "collapsed_sections": [
        "8HXnQdpB_rEp",
        "YX0bIT4nY9Eh",
        "ysFtZH1D_vjS",
        "V7vqeHNsG2PN",
        "zRvIr7Y9HQIO",
        "e7bH67ekZNOl",
        "j82d95tVJuZk",
        "7ifC3TF5__DU",
        "YKVKdQiLADnw",
        "qzhD0e2NwsYu",
        "FdqBAgX5mVOa",
        "rkmTCn_z58QS"
      ],
      "toc_visible": true
    },
    "kernelspec": {
      "display_name": "Python 3",
      "name": "python3"
    },
    "language_info": {
      "name": "python"
    }
  },
  "nbformat": 4,
  "nbformat_minor": 0
}